{
 "cells": [
  {
   "cell_type": "code",
   "execution_count": 1,
   "metadata": {},
   "outputs": [],
   "source": [
    "import pandas as pd\n",
    "import scipy\n",
    "import scipy.spatial\n",
    "from scipy.cluster.hierarchy import dendrogram, linkage\n",
    "import numpy as np"
   ]
  },
  {
   "cell_type": "code",
   "execution_count": 2,
   "metadata": {},
   "outputs": [],
   "source": [
    "np.random.seed(29042022)"
   ]
  },
  {
   "cell_type": "markdown",
   "metadata": {},
   "source": [
    "# Prepare Datasets"
   ]
  },
  {
   "cell_type": "code",
   "execution_count": 3,
   "metadata": {},
   "outputs": [],
   "source": [
    "n_datasets = 1\n",
    "\n",
    "DATASETS = []\n",
    "N = 50 \n",
    "sigma_1 = 1\n",
    "sigma_2 = 2\n",
    "n_max = 20\n",
    "\n",
    "# N=10\n",
    "# n_max=20\n",
    "\n",
    "for _ in range(n_datasets):\n",
    "    df_1 = []\n",
    "    df_2 = []\n",
    "\n",
    "    for i in range(N):\n",
    "        n = np.random.randint(2,n_max)\n",
    "        X = np.random.normal(0,sigma_1,size=(n,2))\n",
    "        df_1.append(X)\n",
    "\n",
    "    for i in range(N):\n",
    "        n = np.random.randint(2,n_max//2)\n",
    "        X = np.random.normal(0,sigma_2,size=(n,2))\n",
    "        df_2.append(X)\n",
    "\n",
    "    df = df_1 + df_2\n",
    "    \n",
    "    DATASETS.append(df)"
   ]
  },
  {
   "cell_type": "code",
   "execution_count": 4,
   "metadata": {},
   "outputs": [],
   "source": [
    "def create_list(df):\n",
    "    lista = []\n",
    "\n",
    "    for X in df:\n",
    "        delta=scipy.spatial.distance.squareform(scipy.spatial.distance.pdist(X, metric='euclidean')) \n",
    "        lista.append(delta)\n",
    "        \n",
    "    return lista "
   ]
  },
  {
   "cell_type": "code",
   "execution_count": 5,
   "metadata": {},
   "outputs": [],
   "source": [
    "def extract_max(lista):\n",
    "    \n",
    "    M = 0\n",
    "    \n",
    "    for m in lista:\n",
    "        if np.max(m)>M:\n",
    "            M = np.max(m)\n",
    "    return M\n",
    "    \n",
    "def normalize(lista, const = None, return_const = False):\n",
    "    \n",
    "    if const is None:\n",
    "        M = extract_max(lista)\n",
    "    else:\n",
    "        M = const\n",
    "    \n",
    "    lista_M = []\n",
    "    \n",
    "    for m in lista:\n",
    "        lista_M.append(m/M)\n",
    "    \n",
    "    if return_const: \n",
    "        return lista_M, M\n",
    "    else:\n",
    "        return lista_M"
   ]
  },
  {
   "cell_type": "code",
   "execution_count": 6,
   "metadata": {},
   "outputs": [
    {
     "name": "stdout",
     "output_type": "stream",
     "text": [
      "0\n"
     ]
    }
   ],
   "source": [
    "MATRICES_LIST_tmp = []\n",
    "\n",
    "for i,df in enumerate(DATASETS):\n",
    "    print(i)\n",
    "    M = create_list(df)\n",
    "    MATRICES_LIST_tmp.append(M)"
   ]
  },
  {
   "cell_type": "code",
   "execution_count": 7,
   "metadata": {},
   "outputs": [],
   "source": [
    "MATRICES_LIST = []\n",
    "\n",
    "for dataset in MATRICES_LIST_tmp:\n",
    "    MATRICES_LIST.append(normalize(dataset, const = None))"
   ]
  },
  {
   "cell_type": "markdown",
   "metadata": {},
   "source": [
    "# Create dendrograms"
   ]
  },
  {
   "cell_type": "code",
   "execution_count": 8,
   "metadata": {},
   "outputs": [],
   "source": [
    "import sys\n",
    "\n",
    "sys.path.insert(0, './Trees')\n",
    "\n",
    "from Utils_dendrograms_OPT import dendrolink, prune_dendro, prune_dendro_N\n",
    "from top_TED_lineare_multiplicity import top_TED_lineare as TED\n",
    "import matplotlib.pyplot as plt\n",
    "from scipy.stats import beta\n"
   ]
  },
  {
   "cell_type": "code",
   "execution_count": 9,
   "metadata": {},
   "outputs": [
    {
     "name": "stdout",
     "output_type": "stream",
     "text": [
      "0\n",
      "Non iniettiva:  31 31\n",
      "Ora è iniettiva:  31 31\n"
     ]
    }
   ],
   "source": [
    "DENDROGRAMS_LIST = []\n",
    "MAX_LEAVES = 30\n",
    "RANGES = []\n",
    "\n",
    "for i,df in enumerate(MATRICES_LIST):\n",
    "    print(i)\n",
    "    TREES = []\n",
    "    max_ = 0\n",
    "    for j,m in enumerate(df):\n",
    "#         print(j,end='\\r')\n",
    "        \n",
    "        T = dendrolink(m,'average',root=True, root_height = 1)\n",
    "        T.make_mult(f=False)\n",
    "        T.make_norms_mult()\n",
    "        TREES.append(T)\n",
    "        if T.f_uniq[-1]>max_:\n",
    "            max_= T.f_uniq[-1]\n",
    "\n",
    "    RANGES.append(max_)        \n",
    "    DENDROGRAMS_LIST.append(TREES)"
   ]
  },
  {
   "cell_type": "markdown",
   "metadata": {},
   "source": [
    "## Check"
   ]
  },
  {
   "cell_type": "code",
   "execution_count": 10,
   "metadata": {
    "scrolled": false
   },
   "outputs": [
    {
     "data": {
      "image/png": "[encoded data removed]",
      "text/plain": [
       "<Figure size 432x288 with 1 Axes>"
      ]
     },
     "metadata": {
      "needs_background": "light"
     },
     "output_type": "display_data"
    },
    {
     "data": {
      "image/png": "[encoded data removed]",
      "text/plain": [
       "<Figure size 432x288 with 1 Axes>"
      ]
     },
     "metadata": {
      "needs_background": "light"
     },
     "output_type": "display_data"
    },
    {
     "data": {
      "image/png": "[encoded data removed]",
      "text/plain": [
       "<Figure size 432x288 with 1 Axes>"
      ]
     },
     "metadata": {
      "needs_background": "light"
     },
     "output_type": "display_data"
    },
    {
     "data": {
      "image/png": "[encoded data removed]",
      "text/plain": [
       "<Figure size 432x288 with 1 Axes>"
      ]
     },
     "metadata": {
      "needs_background": "light"
     },
     "output_type": "display_data"
    },
    {
     "data": {
      "image/png": "[encoded data removed]",
      "text/plain": [
       "<Figure size 432x288 with 1 Axes>"
      ]
     },
     "metadata": {
      "needs_background": "light"
     },
     "output_type": "display_data"
    },
    {
     "data": {
      "image/png": "[encoded data removed]",
      "text/plain": [
       "<Figure size 432x288 with 1 Axes>"
      ]
     },
     "metadata": {
      "needs_background": "light"
     },
     "output_type": "display_data"
    },
    {
     "data": {
      "image/png": "[encoded data removed]",
      "text/plain": [
       "<Figure size 432x288 with 1 Axes>"
      ]
     },
     "metadata": {
      "needs_background": "light"
     },
     "output_type": "display_data"
    },
    {
     "data": {
      "image/png": "[encoded data removed]",
      "text/plain": [
       "<Figure size 432x288 with 1 Axes>"
      ]
     },
     "metadata": {
      "needs_background": "light"
     },
     "output_type": "display_data"
    },
    {
     "data": {
      "image/png": "[encoded data removed]",
      "text/plain": [
       "<Figure size 432x288 with 1 Axes>"
      ]
     },
     "metadata": {
      "needs_background": "light"
     },
     "output_type": "display_data"
    },
    {
     "data": {
      "image/png": "[encoded data removed]",
      "text/plain": [
       "<Figure size 432x288 with 1 Axes>"
      ]
     },
     "metadata": {
      "needs_background": "light"
     },
     "output_type": "display_data"
    }
   ],
   "source": [
    "df_idx=0\n",
    "\n",
    "for i in range(5):\n",
    "    T = DENDROGRAMS_LIST[df_idx][i]\n",
    "    T.plot_newick()\n",
    "    \n",
    "for i in range(5):\n",
    "    T = DENDROGRAMS_LIST[df_idx][i+N]\n",
    "    T.plot_newick()"
   ]
  },
  {
   "cell_type": "markdown",
   "metadata": {},
   "source": [
    "# Auxiliary Functions"
   ]
  },
  {
   "cell_type": "markdown",
   "metadata": {},
   "source": [
    "## Heights Distribution"
   ]
  },
  {
   "cell_type": "code",
   "execution_count": 11,
   "metadata": {},
   "outputs": [],
   "source": [
    "def get_merging_times_distribution(TREES):\n",
    "    \n",
    "    times = []\n",
    "    \n",
    "    for T in TREES:\n",
    "        times = times + list(T.f_uniq)\n",
    "        \n",
    "    return np.array(times)"
   ]
  },
  {
   "cell_type": "markdown",
   "metadata": {},
   "source": [
    "## $d_P^\\mu$"
   ]
  },
  {
   "cell_type": "code",
   "execution_count": 12,
   "metadata": {},
   "outputs": [],
   "source": [
    "import multiprocessing as mp\n",
    "\n",
    "def TED_aux(T,G):\n",
    "    return TED(T, G, MP=True, root=False)\n",
    "    \n",
    "def TED_wrap(LIST):\n",
    "    return TED(LIST[0], LIST[1], MP=False, root=False)\n",
    "\n",
    "def TED_prune(T0, T1, min_leaves=30, min_samples = 20, plot=False):\n",
    "    \n",
    "    T_0 = []\n",
    "    T_1 = []\n",
    "\n",
    "    aux = np.linspace(0,1,min_samples)\n",
    "    cnt = []\n",
    "    tmp = 0\n",
    "    \n",
    "    thresholds = [aux[0]]\n",
    "\n",
    "    for thresh in aux:\n",
    "        T0_aux = prune_dendro(T0, thresh, mult=True)\n",
    "        T0_aux.make_norms_mult()\n",
    "        T1_aux = prune_dendro(T1, thresh, mult=True)\n",
    "        T1_aux.make_norms_mult()\n",
    "        \n",
    "        if len(T0_aux.leaves)> min_leaves or len(T1_aux.leaves)> min_leaves:\n",
    "            pass \n",
    "        elif len(T_0)==0 and len(T_1)==0:\n",
    "            T_0.append(T0_aux)\n",
    "            T_1.append(T1_aux)\n",
    "#             thresholds.append(thresh)\n",
    "            cnt.append(1)\n",
    "        elif len(T0_aux.leaves) == len(T_0[-1].leaves) and \\\n",
    "            len(T1_aux.leaves) == len(T_1[-1].leaves):\n",
    "            cnt[-1]+=1\n",
    "            thresholds.append(thresh)\n",
    "        else:\n",
    "            T_0.append(T0_aux)\n",
    "            T_1.append(T1_aux)\n",
    "            thresholds.append(thresh)\n",
    "            cnt.append(1)\n",
    "\n",
    "    thresholds = np.array(thresholds)\n",
    "    \n",
    "    pool = mp.Pool(processes=7)\n",
    "    d_tmp = pool.map(TED_wrap,([T_0[i],T_1[i]] for i in range(len(T_0))))\n",
    "    pool.close()\n",
    "\n",
    "    d = []\n",
    "    idx = 0\n",
    "    \n",
    "    for c in cnt:\n",
    "        for _ in range(c):\n",
    "            d.append(d_tmp[idx])\n",
    "        idx+=1\n",
    "        \n",
    "    d = np.array(d)\n",
    "   \n",
    "    a=2\n",
    "    b=8\n",
    "    w=beta.pdf(thresholds, a, b)\n",
    "    \n",
    "    f = d*w\n",
    "       \n",
    "    return sum(f[1:]*np.diff(thresholds))"
   ]
  },
  {
   "cell_type": "markdown",
   "metadata": {},
   "source": [
    "### Verify Linearity of $d_E$"
   ]
  },
  {
   "cell_type": "code",
   "execution_count": 13,
   "metadata": {},
   "outputs": [],
   "source": [
    "idx_dataset = 0\n",
    "idx_m_0 = np.random.randint(0,2*N)\n",
    "idx_m_1 = np.random.randint(0,2*N)\n",
    "\n",
    "m_0 = MATRICES_LIST[idx_dataset][idx_m_0]\n",
    "m_1 = MATRICES_LIST[idx_dataset][idx_m_1]"
   ]
  },
  {
   "cell_type": "code",
   "execution_count": 27,
   "metadata": {},
   "outputs": [
    {
     "name": "stdout",
     "output_type": "stream",
     "text": [
      "Non iniettiva:  33 33\n",
      "Ora è iniettiva:  33 33\n"
     ]
    }
   ],
   "source": [
    "T_0 = dendrolink(m_0,'single',root=True)\n",
    "T_0.make_mult(f=False)\n",
    "T_0.make_norms_mult()\n",
    "\n",
    "T_1 = dendrolink(m_1,'single',root=True)\n",
    "T_1.make_mult(f=False)\n",
    "T_1.make_norms_mult()"
   ]
  },
  {
   "cell_type": "code",
   "execution_count": 28,
   "metadata": {},
   "outputs": [
    {
     "data": {
      "image/png": "[encoded data removed]",
      "text/plain": [
       "<Figure size 432x288 with 1 Axes>"
      ]
     },
     "metadata": {
      "needs_background": "light"
     },
     "output_type": "display_data"
    },
    {
     "data": {
      "image/png": "[encoded data removed]",
      "text/plain": [
       "<Figure size 432x288 with 1 Axes>"
      ]
     },
     "metadata": {
      "needs_background": "light"
     },
     "output_type": "display_data"
    }
   ],
   "source": [
    "T_0.plot_newick()\n",
    "T_1.plot_newick()"
   ]
  },
  {
   "cell_type": "code",
   "execution_count": 29,
   "metadata": {},
   "outputs": [
    {
     "name": "stdout",
     "output_type": "stream",
     "text": [
      "2.0919575868804463\n"
     ]
    }
   ],
   "source": [
    "a = TED(T_0,T_1)\n",
    "print(a)"
   ]
  },
  {
   "cell_type": "code",
   "execution_count": 30,
   "metadata": {},
   "outputs": [],
   "source": [
    "k=5\n",
    "\n",
    "T_0 = dendrolink(k*m_0,'average',root=True)\n",
    "T_0.make_mult(f=False)\n",
    "T_0.make_norms_mult()\n",
    "\n",
    "T_1 = dendrolink(k*m_1,'average',root=True)\n",
    "T_1.make_mult(f=False)\n",
    "T_1.make_norms_mult()"
   ]
  },
  {
   "cell_type": "code",
   "execution_count": 18,
   "metadata": {},
   "outputs": [
    {
     "data": {
      "image/png": "[encoded data removed]",
      "text/plain": [
       "<Figure size 432x288 with 1 Axes>"
      ]
     },
     "metadata": {
      "needs_background": "light"
     },
     "output_type": "display_data"
    },
    {
     "data": {
      "image/png": "[encoded data removed]",
      "text/plain": [
       "<Figure size 432x288 with 1 Axes>"
      ]
     },
     "metadata": {
      "needs_background": "light"
     },
     "output_type": "display_data"
    }
   ],
   "source": [
    "T_0.plot_newick()\n",
    "T_1.plot_newick()"
   ]
  },
  {
   "cell_type": "code",
   "execution_count": 19,
   "metadata": {},
   "outputs": [
    {
     "name": "stdout",
     "output_type": "stream",
     "text": [
      "9.043046390130776 9.179648110796032\n"
     ]
    }
   ],
   "source": [
    "print(TED(T_0,T_1),a*k)"
   ]
  },
  {
   "cell_type": "markdown",
   "metadata": {},
   "source": [
    "## Pairwise Distances"
   ]
  },
  {
   "cell_type": "code",
   "execution_count": 20,
   "metadata": {},
   "outputs": [],
   "source": [
    "def pairwise_dist(TREES_list,dist):\n",
    "    D=np.zeros((len(TREES_list),len(TREES_list)))\n",
    "    \n",
    "    for i in range(len(TREES_list)):\n",
    "        print('Doing row : ',i, ' of ', len(TREES_list),'            ', end='\\r')\n",
    "        \n",
    "        for j in range(i):\n",
    "            TREES_list[i].make_mult(f=False)\n",
    "            D[i,j] = dist(TREES_list[i],TREES_list[j])\n",
    "    M=D+D.T\n",
    "    \n",
    "    return M"
   ]
  },
  {
   "cell_type": "markdown",
   "metadata": {},
   "source": [
    "# Setting $\\mu$"
   ]
  },
  {
   "cell_type": "code",
   "execution_count": 21,
   "metadata": {},
   "outputs": [
    {
     "data": {
      "text/plain": [
       "[<matplotlib.lines.Line2D at 0x7f854592fb50>]"
      ]
     },
     "execution_count": 21,
     "metadata": {},
     "output_type": "execute_result"
    },
    {
     "data": {
      "image/png": "[encoded data removed]",
      "text/plain": [
       "<Figure size 432x288 with 1 Axes>"
      ]
     },
     "metadata": {
      "needs_background": "light"
     },
     "output_type": "display_data"
    }
   ],
   "source": [
    "a=2\n",
    "b=8\n",
    "aux = np.linspace(0,1,100)\n",
    "\n",
    "w=beta.pdf(aux, a, b)\n",
    "\n",
    "plt.plot(aux,w)"
   ]
  },
  {
   "cell_type": "code",
   "execution_count": 22,
   "metadata": {},
   "outputs": [
    {
     "name": "stdout",
     "output_type": "stream",
     "text": [
      "0\n"
     ]
    }
   ],
   "source": [
    "DIST_LIST = []\n",
    "\n",
    "for i,TREES in enumerate(DENDROGRAMS_LIST):\n",
    "    print(i)\n",
    "    dis = get_merging_times_distribution(TREES)\n",
    "    DIST_LIST.append(dis)"
   ]
  },
  {
   "cell_type": "code",
   "execution_count": 23,
   "metadata": {},
   "outputs": [
    {
     "data": {
      "image/png": "[encoded data removed]",
      "text/plain": [
       "<Figure size 432x288 with 1 Axes>"
      ]
     },
     "metadata": {
      "needs_background": "light"
     },
     "output_type": "display_data"
    }
   ],
   "source": [
    "for d in DIST_LIST:\n",
    "    plt.scatter(d,np.zeros_like(d))\n",
    "    plt.show()"
   ]
  },
  {
   "cell_type": "code",
   "execution_count": 24,
   "metadata": {},
   "outputs": [
    {
     "data": {
      "text/plain": [
       "<matplotlib.legend.Legend at 0x7f8545c730d0>"
      ]
     },
     "execution_count": 24,
     "metadata": {},
     "output_type": "execute_result"
    },
    {
     "data": {
      "image/png": "[encoded data removed]",
      "text/plain": [
       "<Figure size 432x288 with 1 Axes>"
      ]
     },
     "metadata": {
      "needs_background": "light"
     },
     "output_type": "display_data"
    }
   ],
   "source": [
    "from scipy import stats\n",
    "\n",
    "aux = np.linspace(0,1,100)\n",
    "values = [d]\n",
    "kernel = stats.gaussian_kde(values)\n",
    "dens = kernel(aux)\n",
    "\n",
    "plt.plot(aux,dens, label = 'Trees heights density')\n",
    "plt.plot(aux,w,label = 'Beta('+str(a)+','+str(b)+') density')\n",
    "plt.legend(loc=\"upper right\")\n"
   ]
  },
  {
   "cell_type": "markdown",
   "metadata": {},
   "source": [
    "# Compute Pairwise Distances"
   ]
  },
  {
   "cell_type": "code",
   "execution_count": 25,
   "metadata": {},
   "outputs": [],
   "source": [
    "DISTANCES_LIST = []"
   ]
  },
  {
   "cell_type": "markdown",
   "metadata": {},
   "source": [
    "## $d_E$"
   ]
  },
  {
   "cell_type": "code",
   "execution_count": null,
   "metadata": {},
   "outputs": [
    {
     "name": "stdout",
     "output_type": "stream",
     "text": [
      "0\n",
      "Doing row :  8  of  100             \r"
     ]
    }
   ],
   "source": [
    "for i,TREES in enumerate(DENDROGRAMS_LIST):\n",
    "    print(i)\n",
    "    M = pairwise_dist(TREES,TED_aux)\n",
    "    DISTANCES_LIST.append(M)\n",
    "    np.save('./Results/TED', M)"
   ]
  },
  {
   "cell_type": "markdown",
   "metadata": {},
   "source": [
    "## $d_P^\\mu$"
   ]
  },
  {
   "cell_type": "code",
   "execution_count": null,
   "metadata": {},
   "outputs": [],
   "source": [
    "for i,TREES in enumerate(DENDROGRAMS_LIST):\n",
    "    print(i)\n",
    "    M = pairwise_dist(TREES,TED_prune)\n",
    "    DISTANCES_LIST.append(M)\n",
    "    np.save('./Results/pruning', M)"
   ]
  },
  {
   "cell_type": "markdown",
   "metadata": {},
   "source": [
    "# Visual Inspection of Matrices"
   ]
  },
  {
   "cell_type": "code",
   "execution_count": null,
   "metadata": {},
   "outputs": [],
   "source": [
    "DISTANCES_LIST = []\n",
    "\n",
    "M=np.load(\"./Results/TED.npy\")\n",
    "DISTANCES_LIST.append(M)\n",
    "\n",
    "M=np.load(\"./Results/pruning.npy\")\n",
    "DISTANCES_LIST.append(M)"
   ]
  },
  {
   "cell_type": "code",
   "execution_count": null,
   "metadata": {
    "scrolled": false
   },
   "outputs": [],
   "source": [
    "for m in DISTANCES_LIST:\n",
    "    plt.imshow(m)\n",
    "    plt.colorbar()\n",
    "    plt.show()"
   ]
  },
  {
   "cell_type": "markdown",
   "metadata": {},
   "source": [
    "# Clustering"
   ]
  },
  {
   "cell_type": "markdown",
   "metadata": {},
   "source": [
    "## Clustering of $d^\\mu_P$: average linkage "
   ]
  },
  {
   "cell_type": "code",
   "execution_count": null,
   "metadata": {},
   "outputs": [],
   "source": [
    "m = DISTANCES_LIST[1]\n",
    "T = dendrolink(m,'average')\n",
    "\n",
    "T.plot_newick()"
   ]
  },
  {
   "cell_type": "code",
   "execution_count": null,
   "metadata": {},
   "outputs": [],
   "source": [
    "CLOUDS = []\n",
    "\n",
    "for cut in [186,196]: \n",
    "    T_clus = T.sub_tree(cut)\n",
    "    clus = [T_clus.name_vertices[l] for l in T_clus.leaves]\n",
    "\n",
    "    cloud = []\n",
    "\n",
    "    for idx_c in clus:\n",
    "        c = DATASETS[idx_dataset][idx_c]\n",
    "        cloud+=list(c)\n",
    "\n",
    "    CLOUDS.append(np.array(cloud))   "
   ]
  },
  {
   "cell_type": "markdown",
   "metadata": {},
   "source": [
    "## Clustering of $d^\\mu_P$: ward linkage "
   ]
  },
  {
   "cell_type": "code",
   "execution_count": null,
   "metadata": {},
   "outputs": [],
   "source": [
    "m = DISTANCES_LIST[1]\n",
    "T = dendrolink(m,'ward')\n",
    "\n",
    "T.plot_newick()"
   ]
  },
  {
   "cell_type": "code",
   "execution_count": null,
   "metadata": {},
   "outputs": [],
   "source": [
    "print(T.find_children(max(T.vertices)))"
   ]
  },
  {
   "cell_type": "code",
   "execution_count": null,
   "metadata": {},
   "outputs": [],
   "source": [
    "CLOUDS = []\n",
    "\n",
    "for cut in [194, 197]: \n",
    "    T_clus = T.sub_tree(cut)\n",
    "    clus = [T_clus.name_vertices[l] for l in T_clus.leaves]\n",
    "\n",
    "    cloud = []\n",
    "\n",
    "    for idx_c in clus:\n",
    "        c = DATASETS[idx_dataset][idx_c]\n",
    "        cloud+=list(c)\n",
    "\n",
    "    CLOUDS.append(np.array(cloud)) "
   ]
  },
  {
   "cell_type": "markdown",
   "metadata": {},
   "source": [
    "## Clustering of $d_E$"
   ]
  },
  {
   "cell_type": "code",
   "execution_count": null,
   "metadata": {},
   "outputs": [],
   "source": [
    "m = DISTANCES_LIST[0]\n",
    "T = dendrolink(m,'ward')\n",
    "\n",
    "T.plot_newick()"
   ]
  },
  {
   "cell_type": "code",
   "execution_count": null,
   "metadata": {},
   "outputs": [],
   "source": [
    "print(T.find_children(max(T.vertices)))"
   ]
  },
  {
   "cell_type": "code",
   "execution_count": null,
   "metadata": {},
   "outputs": [],
   "source": [
    "CLOUDS_d_E = []\n",
    "\n",
    "for cut in [196, 197]: \n",
    "    T_clus = T.sub_tree(cut)\n",
    "    clus = [T_clus.name_vertices[l] for l in T_clus.leaves]\n",
    "\n",
    "    cloud = []\n",
    "\n",
    "    for idx_c in clus:\n",
    "        c = DATASETS[idx_dataset][idx_c]\n",
    "        cloud+=list(c)\n",
    "\n",
    "    CLOUDS_d_E.append(np.array(cloud))"
   ]
  },
  {
   "cell_type": "markdown",
   "metadata": {},
   "source": [
    "## Density estimation"
   ]
  },
  {
   "cell_type": "markdown",
   "metadata": {},
   "source": [
    "We estimate the density of the point clouds generated by the clusters in one of the above cases."
   ]
  },
  {
   "cell_type": "code",
   "execution_count": null,
   "metadata": {},
   "outputs": [],
   "source": [
    "from scipy.stats import norm\n",
    "\n",
    "aux = np.linspace(-10,10,1000)\n",
    "pdf_norm_1 = norm.pdf(aux,loc=0,scale=sigma_1)\n",
    "pdf_norm_2 = norm.pdf(aux,loc=0,scale=sigma_2)\n",
    "\n",
    "for c in CLOUDS:\n",
    "# for c in CLOUDS_d_E:\n",
    "\n",
    "    values = [c[:,0]]\n",
    "    kernel = stats.gaussian_kde(values)\n",
    "    dens = kernel(aux)\n",
    "    \n",
    "    plt.plot(aux,dens, label='Estimated Density')\n",
    "    plt.plot(aux,pdf_norm_1,label='Normal(0,1)')\n",
    "    plt.plot(aux,pdf_norm_2,label='Normal(0,2)')\n",
    "    plt.legend(loc=\"upper right\")\n",
    "    plt.show()\n",
    "    \n",
    "    values = [c[:,1]]\n",
    "    kernel = stats.gaussian_kde(values)\n",
    "    dens = kernel(aux)\n",
    "    \n",
    "    plt.plot(aux,dens, label='Estimated Density')\n",
    "    plt.plot(aux,pdf_norm_1,label='Normal(0,1)')\n",
    "    plt.plot(aux,pdf_norm_2,label='Normal(0,2)')\n",
    "    plt.legend(loc=\"upper right\")\n",
    "    plt.show()"
   ]
  },
  {
   "cell_type": "code",
   "execution_count": null,
   "metadata": {},
   "outputs": [],
   "source": []
  }
 ],
 "metadata": {
  "kernelspec": {
   "display_name": "Python 3 (ipykernel)",
   "language": "python",
   "name": "python3"
  },
  "language_info": {
   "codemirror_mode": {
    "name": "ipython",
    "version": 3
   },
   "file_extension": ".py",
   "mimetype": "text/x-python",
   "name": "python",
   "nbconvert_exporter": "python",
   "pygments_lexer": "ipython3",
   "version": "3.10.4"
  }
 },
 "nbformat": 4,
 "nbformat_minor": 2
}
